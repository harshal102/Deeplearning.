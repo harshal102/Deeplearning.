{
 "cells": [
  {
   "cell_type": "code",
   "execution_count": 18,
   "id": "17a16749",
   "metadata": {},
   "outputs": [],
   "source": [
    "import pandas as pd \n",
    "import numpy as np\n",
    "from keras.layers import Conv2D,MaxPooling2D,Flatten,Dense\n",
    "from keras.models import Sequential\n",
    "from keras.datasets import mnist\n",
    "import keras"
   ]
  },
  {
   "cell_type": "code",
   "execution_count": 19,
   "id": "76f66834",
   "metadata": {},
   "outputs": [],
   "source": [
    "(x_train,y_train),(x_test,y_test)=mnist.load_data()"
   ]
  },
  {
   "cell_type": "code",
   "execution_count": 12,
   "id": "d2fe51c4",
   "metadata": {},
   "outputs": [],
   "source": [
    "x_train=x_train.reshape(x_train.shape[0],28,28,1)\n",
    "x_test=x_test.reshape(x_test.shape[0],28,28,1)"
   ]
  },
  {
   "cell_type": "code",
   "execution_count": 20,
   "id": "d2b56257",
   "metadata": {},
   "outputs": [],
   "source": [
    "x_train=x_train/255\n",
    "x_test=x_test/255"
   ]
  },
  {
   "cell_type": "code",
   "execution_count": 21,
   "id": "0a11d0ba",
   "metadata": {},
   "outputs": [],
   "source": [
    "y_train=keras.utils.to_categorical(y_train,10)\n",
    "y_test=keras.utils.to_categorical(y_test,10)"
   ]
  },
  {
   "cell_type": "code",
   "execution_count": 27,
   "id": "48c02d65",
   "metadata": {},
   "outputs": [],
   "source": [
    "model=Sequential()"
   ]
  },
  {
   "cell_type": "code",
   "execution_count": 28,
   "id": "89866135",
   "metadata": {},
   "outputs": [
    {
     "name": "stdout",
     "output_type": "stream",
     "text": [
      "Epoch 1/10\n",
      "469/469 [==============================] - 17s 31ms/step - loss: 0.3202 - accuracy: 0.9052 - val_loss: 0.0953 - val_accuracy: 0.9721\n",
      "Epoch 2/10\n",
      "469/469 [==============================] - 17s 37ms/step - loss: 0.0929 - accuracy: 0.9721 - val_loss: 0.0687 - val_accuracy: 0.9782\n",
      "Epoch 3/10\n",
      "469/469 [==============================] - 21s 46ms/step - loss: 0.0675 - accuracy: 0.9793 - val_loss: 0.0495 - val_accuracy: 0.9838\n",
      "Epoch 4/10\n",
      "469/469 [==============================] - 24s 52ms/step - loss: 0.0530 - accuracy: 0.9831 - val_loss: 0.0453 - val_accuracy: 0.9849\n",
      "Epoch 5/10\n",
      "469/469 [==============================] - 23s 48ms/step - loss: 0.0458 - accuracy: 0.9853 - val_loss: 0.0487 - val_accuracy: 0.9847\n",
      "Epoch 6/10\n",
      "469/469 [==============================] - 22s 48ms/step - loss: 0.0371 - accuracy: 0.9879 - val_loss: 0.0388 - val_accuracy: 0.9870\n",
      "Epoch 7/10\n",
      "469/469 [==============================] - 21s 44ms/step - loss: 0.0319 - accuracy: 0.9897 - val_loss: 0.0392 - val_accuracy: 0.9873\n",
      "Epoch 8/10\n",
      "469/469 [==============================] - 21s 45ms/step - loss: 0.0281 - accuracy: 0.9912 - val_loss: 0.0361 - val_accuracy: 0.9886\n",
      "Epoch 9/10\n",
      "469/469 [==============================] - 21s 44ms/step - loss: 0.0249 - accuracy: 0.9920 - val_loss: 0.0356 - val_accuracy: 0.9885\n",
      "Epoch 10/10\n",
      "469/469 [==============================] - 20s 43ms/step - loss: 0.0229 - accuracy: 0.9928 - val_loss: 0.0362 - val_accuracy: 0.9883\n",
      "313/313 [==============================] - 3s 9ms/step - loss: 0.0362 - accuracy: 0.9883\n",
      "test loss 0.0361916609108448\n",
      "test accuracy 0.9883000254631042\n",
      "Model: \"sequential_2\"\n",
      "_________________________________________________________________\n",
      " Layer (type)                Output Shape              Param #   \n",
      "=================================================================\n",
      " conv2d_10 (Conv2D)          (None, 24, 24, 6)         156       \n",
      "                                                                 \n",
      " max_pooling2d_4 (MaxPooling  (None, 12, 12, 6)        0         \n",
      " 2D)                                                             \n",
      "                                                                 \n",
      " conv2d_11 (Conv2D)          (None, 8, 8, 16)          2416      \n",
      "                                                                 \n",
      " max_pooling2d_5 (MaxPooling  (None, 4, 4, 16)         0         \n",
      " 2D)                                                             \n",
      "                                                                 \n",
      " flatten (Flatten)           (None, 256)               0         \n",
      "                                                                 \n",
      " dense (Dense)               (None, 120)               30840     \n",
      "                                                                 \n",
      " dense_1 (Dense)             (None, 84)                10164     \n",
      "                                                                 \n",
      " dense_2 (Dense)             (None, 10)                850       \n",
      "                                                                 \n",
      "=================================================================\n",
      "Total params: 44,426\n",
      "Trainable params: 44,426\n",
      "Non-trainable params: 0\n",
      "_________________________________________________________________\n"
     ]
    }
   ],
   "source": [
    "model.add(Conv2D(6,kernel_size=(5,5),input_shape=(28,28,1),activation=\"relu\"))\n",
    "model.add(MaxPooling2D(pool_size=(2,2)))\n",
    "model.add(Conv2D(16,kernel_size=(5,5),activation=\"relu\"))\n",
    "model.add(MaxPooling2D(pool_size=(2,2)))\n",
    "#model.add(Conv2D(120,kernel_size=(5,5),activation=\"relu\"))\n",
    "model.add(Flatten())\n",
    "model.add(Dense(120,activation=\"relu\"))\n",
    "model.add(Dense(84,activation=\"relu\"))\n",
    "model.add(Dense(10,activation=\"softmax\"))\n",
    "\n",
    "model.compile(optimizer=keras.optimizers.Adam(),loss=keras.metrics.categorical_crossentropy,metrics=[\"accuracy\"])\n",
    "model.fit(x_train,y_train,batch_size=128,epochs=10,verbose=1,validation_data=(x_test,y_test))\n",
    "score=model.evaluate(x_test,y_test)\n",
    "print(\"test loss\",score[0])\n",
    "print(\"test accuracy\",score[1])\n",
    "\n",
    "model.summary()"
   ]
  },
  {
   "cell_type": "code",
   "execution_count": null,
   "id": "0d83a63a",
   "metadata": {},
   "outputs": [],
   "source": []
  }
 ],
 "metadata": {
  "kernelspec": {
   "display_name": "Python 3 (ipykernel)",
   "language": "python",
   "name": "python3"
  },
  "language_info": {
   "codemirror_mode": {
    "name": "ipython",
    "version": 3
   },
   "file_extension": ".py",
   "mimetype": "text/x-python",
   "name": "python",
   "nbconvert_exporter": "python",
   "pygments_lexer": "ipython3",
   "version": "3.9.12"
  }
 },
 "nbformat": 4,
 "nbformat_minor": 5
}
