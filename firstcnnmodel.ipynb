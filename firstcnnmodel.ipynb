{
 "cells": [
  {
   "cell_type": "code",
   "execution_count": 78,
   "id": "b0444c35",
   "metadata": {},
   "outputs": [],
   "source": [
    "import pandas as pd \n",
    "import numpy as np\n",
    "from keras.layers import Conv2D,MaxPooling2D,Flatten,Dense\n",
    "from keras.models import Sequential\n"
   ]
  },
  {
   "cell_type": "code",
   "execution_count": 79,
   "id": "ff76019e",
   "metadata": {},
   "outputs": [],
   "source": [
    "model=Sequential()"
   ]
  },
  {
   "cell_type": "code",
   "execution_count": 80,
   "id": "dda10091",
   "metadata": {},
   "outputs": [
    {
     "name": "stdout",
     "output_type": "stream",
     "text": [
      "Model: \"sequential_4\"\n",
      "_________________________________________________________________\n",
      " Layer (type)                Output Shape              Param #   \n",
      "=================================================================\n",
      " conv2d_12 (Conv2D)          (None, 62, 62, 32)        896       \n",
      "                                                                 \n",
      " max_pooling2d_6 (MaxPooling  (None, 31, 31, 32)       0         \n",
      " 2D)                                                             \n",
      "                                                                 \n",
      " flatten_4 (Flatten)         (None, 30752)             0         \n",
      "                                                                 \n",
      " dense_8 (Dense)             (None, 126)               3874878   \n",
      "                                                                 \n",
      " dense_9 (Dense)             (None, 126)               16002     \n",
      "                                                                 \n",
      "=================================================================\n",
      "Total params: 3,891,776\n",
      "Trainable params: 3,891,776\n",
      "Non-trainable params: 0\n",
      "_________________________________________________________________\n"
     ]
    }
   ],
   "source": [
    "model.add(Conv2D(32,(3,3),input_shape=(64,64,3),activation=\"relu\"))\n",
    "model.add(MaxPooling2D(pool_size=(2,2)))\n",
    "model.add(Flatten())\n",
    "model.add(Dense(units=126,activation=\"relu\"))\n",
    "model.add(Dense(units=126,activation=\"softmax\"))\n",
    "model.summary()"
   ]
  },
  {
   "cell_type": "code",
   "execution_count": 81,
   "id": "f958b922",
   "metadata": {},
   "outputs": [],
   "source": [
    "model.compile(optimizer='adam',loss=\"sparse_categorical_crossentropy\",metrics=[\"accuracy\"])"
   ]
  },
  {
   "cell_type": "code",
   "execution_count": 82,
   "id": "8f7b3652",
   "metadata": {},
   "outputs": [],
   "source": [
    "from keras.preprocessing.image import ImageDataGenerator"
   ]
  },
  {
   "cell_type": "code",
   "execution_count": 83,
   "id": "5de67aea",
   "metadata": {},
   "outputs": [],
   "source": [
    "train_datagen=ImageDataGenerator(rescale=1./255)\n",
    "test_datagen=ImageDataGenerator(rescale=1./255)"
   ]
  },
  {
   "cell_type": "code",
   "execution_count": 89,
   "id": "0bf8673e",
   "metadata": {},
   "outputs": [
    {
     "name": "stdout",
     "output_type": "stream",
     "text": [
      "Found 10 images belonging to 2 classes.\n",
      "Found 10 images belonging to 2 classes.\n"
     ]
    },
    {
     "name": "stderr",
     "output_type": "stream",
     "text": [
      "C:\\Users\\HARSHAL PAWAR\\AppData\\Local\\Temp\\ipykernel_12132\\525132515.py:3: UserWarning: `Model.fit_generator` is deprecated and will be removed in a future version. Please use `Model.fit`, which supports generators.\n",
      "  model1=model.fit_generator(train_set,steps_per_epoch=8000,epochs=1,validation_data=test_set,validation_steps=2000)\n"
     ]
    },
    {
     "name": "stdout",
     "output_type": "stream",
     "text": [
      "   1/8000 [..............................] - ETA: 20:15 - loss: 3.9493 - accuracy: 0.5000WARNING:tensorflow:Your input ran out of data; interrupting training. Make sure that your dataset or generator can generate at least `steps_per_epoch * epochs` batches (in this case, 8000 batches). You may need to use the repeat() function when building your dataset.\n",
      "WARNING:tensorflow:Your input ran out of data; interrupting training. Make sure that your dataset or generator can generate at least `steps_per_epoch * epochs` batches (in this case, 2000 batches). You may need to use the repeat() function when building your dataset.\n",
      "8000/8000 [==============================] - 1s 53us/step - loss: 3.9493 - accuracy: 0.5000 - val_loss: 0.4205 - val_accuracy: 0.8000\n",
      "svae model to disk\n"
     ]
    }
   ],
   "source": [
    "train_set=train_datagen.flow_from_directory(\"C:/Users/HARSHAL PAWAR/Desktop/inuron/Deep lerning/classificationproject/pet\",target_size=(64,64),batch_size=(32),class_mode=\"binary\")\n",
    "test_set=test_datagen.flow_from_directory(\"C:/Users/HARSHAL PAWAR/Desktop/inuron/Deep lerning/classificationproject/pet\",target_size=(64,64),batch_size=(32),class_mode=\"binary\")\n",
    "model1=model.fit_generator(train_set,steps_per_epoch=8000,epochs=1,validation_data=test_set,validation_steps=2000)\n",
    "model.save(\"model1.h5\")\n",
    "print(\"svae model to disk\")"
   ]
  },
  {
   "cell_type": "code",
   "execution_count": 90,
   "id": "2e14937b",
   "metadata": {},
   "outputs": [],
   "source": [
    "from keras.preprocessing import image\n",
    "import keras.utils as image"
   ]
  },
  {
   "cell_type": "code",
   "execution_count": 98,
   "id": "c9503d7b",
   "metadata": {},
   "outputs": [
    {
     "name": "stdout",
     "output_type": "stream",
     "text": [
      "1/1 [==============================] - 0s 39ms/step\n",
      "dog\n"
     ]
    }
   ],
   "source": [
    "from keras.utils import load_img\n",
    "test_img=load_img(\"C:/Users/HARSHAL PAWAR/Desktop/inuron/Deep lerning/classificationproject/pet/dog/Untitled4.jpg\",target_size=(64,64))\n",
    "test_img=image.img_to_array(test_img)\n",
    "test_img=np.expand_dims(test_img,axis=0)\n",
    "result=model.predict(test_img)\n",
    "train_set.class_indices\n",
    "\n",
    "if result[0][0]==1:\n",
    "    print(\"cat\")\n",
    "else:\n",
    "    print(\"dog\")"
   ]
  },
  {
   "cell_type": "code",
   "execution_count": null,
   "id": "b2ae6562",
   "metadata": {},
   "outputs": [],
   "source": []
  },
  {
   "cell_type": "code",
   "execution_count": null,
   "id": "36638753",
   "metadata": {},
   "outputs": [],
   "source": []
  }
 ],
 "metadata": {
  "kernelspec": {
   "display_name": "Python 3 (ipykernel)",
   "language": "python",
   "name": "python3"
  },
  "language_info": {
   "codemirror_mode": {
    "name": "ipython",
    "version": 3
   },
   "file_extension": ".py",
   "mimetype": "text/x-python",
   "name": "python",
   "nbconvert_exporter": "python",
   "pygments_lexer": "ipython3",
   "version": "3.9.12"
  }
 },
 "nbformat": 4,
 "nbformat_minor": 5
}
